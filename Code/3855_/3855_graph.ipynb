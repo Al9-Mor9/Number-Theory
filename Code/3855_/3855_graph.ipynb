{
  "nbformat": 4,
  "nbformat_minor": 0,
  "metadata": {
    "colab": {
      "provenance": []
    },
    "kernelspec": {
      "name": "python3",
      "display_name": "Python 3"
    },
    "language_info": {
      "name": "python"
    }
  },
  "cells": [
    {
      "cell_type": "markdown",
      "source": [],
      "metadata": {
        "id": "xRZSDnxuGM2k"
      }
    },
    {
      "cell_type": "code",
      "source": [
        "import sys\n",
        "import math\n",
        "\n",
        "def check(a):\n",
        "    num = 0.0\n",
        "    for i in range(n):\n",
        "        tmp = (a-arr[i][0])**2 + arr[i][1]**2\n",
        "        if num < tmp: num = tmp\n",
        "    return num"
      ],
      "metadata": {
        "id": "ib8FD3zhFIlV"
      },
      "execution_count": null,
      "outputs": []
    },
    {
      "cell_type": "code",
      "source": [
        "arr = [ [4, 7],\n",
        "        [-4, 0],\n",
        "        [7, -6],\n",
        "        [-2, 4],\n",
        "        [8, -5]]\n",
        "n = 5\n",
        "arr, n"
      ],
      "metadata": {
        "colab": {
          "base_uri": "https://localhost:8080/"
        },
        "id": "5mL9yZIRo1DE",
        "outputId": "700889f8-d2f0-4978-bcf9-65727a4a38ec"
      },
      "execution_count": null,
      "outputs": [
        {
          "output_type": "execute_result",
          "data": {
            "text/plain": [
              "([[4, 7], [-4, 0], [7, -6], [-2, 4], [8, -5]], 5)"
            ]
          },
          "metadata": {},
          "execution_count": 10
        }
      ]
    },
    {
      "cell_type": "code",
      "source": [
        "l = -200000\n",
        "r = 200000\n",
        "ans = 0.0\n",
        "\n",
        "while r-l > 1e-9:\n",
        "    thrid_1 = l + ((r - l) / 3)\n",
        "    thrid_2 = l + ((r - l)*2 / 3)\n",
        "    print(\"l: %.9f, thrid_1: %.9f, thrid_2: %.9f, r: %.9f\" %(l, thrid_1, thrid_2, r))\n",
        "    if check(thrid_1) > check(thrid_2):\n",
        "        ans = thrid_1\n",
        "        l = thrid_1\n",
        "    else:\n",
        "        ans = thrid_2\n",
        "        r = thrid_2\n",
        "print(\"%.9f %.9f\" % (ans, math.sqrt(check(ans))))"
      ],
      "metadata": {
        "colab": {
          "base_uri": "https://localhost:8080/"
        },
        "id": "THsmDLrU4Ak8",
        "outputId": "5c2db16f-340c-482c-af46-c09332be4907"
      },
      "execution_count": null,
      "outputs": [
        {
          "output_type": "stream",
          "name": "stdout",
          "text": [
            "l: -200000.000000000, thrid_1: -66666.666666667, thrid_2: 66666.666666667, r: 200000.000000000\n",
            "l: -66666.666666667, thrid_1: 22222.222222222, thrid_2: 111111.111111111, r: 200000.000000000\n",
            "l: -66666.666666667, thrid_1: -7407.407407407, thrid_2: 51851.851851852, r: 111111.111111111\n",
            "l: -66666.666666667, thrid_1: -27160.493827160, thrid_2: 12345.679012346, r: 51851.851851852\n",
            "l: -27160.493827160, thrid_1: -823.045267490, thrid_2: 25514.403292181, r: 51851.851851852\n",
            "l: -27160.493827160, thrid_1: -9602.194787380, thrid_2: 7956.104252401, r: 25514.403292181\n",
            "l: -9602.194787380, thrid_1: 2103.337905807, thrid_2: 13808.870598994, r: 25514.403292181\n",
            "l: -9602.194787380, thrid_1: -1798.506325255, thrid_2: 6005.182136869, r: 13808.870598994\n",
            "l: -9602.194787380, thrid_1: -4399.735812630, thrid_2: 802.723162120, r: 6005.182136869\n",
            "l: -4399.735812630, thrid_1: -931.429829464, thrid_2: 2536.876153703, r: 6005.182136869\n",
            "l: -4399.735812630, thrid_1: -2087.531823853, thrid_2: 224.672164925, r: 2536.876153703\n",
            "l: -2087.531823853, thrid_1: -546.062498001, thrid_2: 995.406827851, r: 2536.876153703\n",
            "l: -2087.531823853, thrid_1: -1059.885606618, thrid_2: -32.239389383, r: 995.406827851\n",
            "l: -1059.885606618, thrid_1: -374.788128462, thrid_2: 310.309349695, r: 995.406827851\n",
            "l: -374.788128462, thrid_1: 81.943523643, thrid_2: 538.675175747, r: 995.406827851\n",
            "l: -374.788128462, thrid_1: -70.300360392, thrid_2: 234.187407677, r: 538.675175747\n",
            "l: -374.788128462, thrid_1: -171.796283082, thrid_2: 31.195562298, r: 234.187407677\n",
            "l: -171.796283082, thrid_1: -36.468386162, thrid_2: 98.859510758, r: 234.187407677\n",
            "l: -171.796283082, thrid_1: -81.577685135, thrid_2: 8.640912811, r: 98.859510758\n",
            "l: -81.577685135, thrid_1: -21.431953171, thrid_2: 38.713778793, r: 98.859510758\n",
            "l: -81.577685135, thrid_1: -41.480530493, thrid_2: -1.383375850, r: 38.713778793\n",
            "l: -41.480530493, thrid_1: -14.749094064, thrid_2: 11.982342365, r: 38.713778793\n",
            "l: -14.749094064, thrid_1: 3.071863555, thrid_2: 20.892821174, r: 38.713778793\n",
            "l: -14.749094064, thrid_1: -2.868455651, thrid_2: 9.012182761, r: 20.892821174\n",
            "l: -14.749094064, thrid_1: -6.828668455, thrid_2: 1.091757153, r: 9.012182761\n",
            "l: -6.828668455, thrid_1: -1.548384717, thrid_2: 3.731899022, r: 9.012182761\n",
            "l: -1.548384717, thrid_1: 1.971804443, thrid_2: 5.491993602, r: 9.012182761\n",
            "l: -1.548384717, thrid_1: 0.798408056, thrid_2: 3.145200829, r: 5.491993602\n",
            "l: 0.798408056, thrid_1: 2.362936572, thrid_2: 3.927465087, r: 5.491993602\n",
            "l: 0.798408056, thrid_1: 1.841427067, thrid_2: 2.884446077, r: 3.927465087\n",
            "l: 1.841427067, thrid_1: 2.536773073, thrid_2: 3.232119080, r: 3.927465087\n",
            "l: 2.536773073, thrid_1: 3.000337078, thrid_2: 3.463901082, r: 3.927465087\n",
            "l: 2.536773073, thrid_1: 2.845815743, thrid_2: 3.154858413, r: 3.463901082\n",
            "l: 2.845815743, thrid_1: 3.051844189, thrid_2: 3.257872636, r: 3.463901082\n",
            "l: 2.845815743, thrid_1: 2.983168041, thrid_2: 3.120520338, r: 3.257872636\n",
            "l: 2.983168041, thrid_1: 3.074736239, thrid_2: 3.166304437, r: 3.257872636\n",
            "l: 3.074736239, thrid_1: 3.135781705, thrid_2: 3.196827170, r: 3.257872636\n",
            "l: 3.074736239, thrid_1: 3.115433216, thrid_2: 3.156130193, r: 3.196827170\n",
            "l: 3.074736239, thrid_1: 3.101867557, thrid_2: 3.128998875, r: 3.156130193\n",
            "l: 3.101867557, thrid_1: 3.119955102, thrid_2: 3.138042648, r: 3.156130193\n",
            "l: 3.119955102, thrid_1: 3.132013466, thrid_2: 3.144071830, r: 3.156130193\n",
            "l: 3.119955102, thrid_1: 3.127994012, thrid_2: 3.136032921, r: 3.144071830\n",
            "l: 3.127994012, thrid_1: 3.133353284, thrid_2: 3.138712557, r: 3.144071830\n",
            "l: 3.127994012, thrid_1: 3.131566860, thrid_2: 3.135139708, r: 3.138712557\n",
            "l: 3.131566860, thrid_1: 3.133948759, thrid_2: 3.136330658, r: 3.138712557\n",
            "l: 3.133948759, thrid_1: 3.135536692, thrid_2: 3.137124624, r: 3.138712557\n",
            "l: 3.133948759, thrid_1: 3.135007381, thrid_2: 3.136066003, r: 3.137124624\n",
            "l: 3.135007381, thrid_1: 3.135713129, thrid_2: 3.136418876, r: 3.137124624\n",
            "l: 3.135713129, thrid_1: 3.136183627, thrid_2: 3.136654126, r: 3.137124624\n",
            "l: 3.135713129, thrid_1: 3.136026794, thrid_2: 3.136340460, r: 3.136654126\n",
            "l: 3.136026794, thrid_1: 3.136235905, thrid_2: 3.136445015, r: 3.136654126\n",
            "l: 3.136026794, thrid_1: 3.136166201, thrid_2: 3.136305608, r: 3.136445015\n",
            "l: 3.136166201, thrid_1: 3.136259139, thrid_2: 3.136352077, r: 3.136445015\n",
            "l: 3.136259139, thrid_1: 3.136321098, thrid_2: 3.136383057, r: 3.136445015\n",
            "l: 3.136321098, thrid_1: 3.136362404, thrid_2: 3.136403709, r: 3.136445015\n",
            "l: 3.136321098, thrid_1: 3.136348635, thrid_2: 3.136376172, r: 3.136403709\n",
            "l: 3.136321098, thrid_1: 3.136339456, thrid_2: 3.136357814, r: 3.136376172\n",
            "l: 3.136339456, thrid_1: 3.136351695, thrid_2: 3.136363934, r: 3.136376172\n",
            "l: 3.136351695, thrid_1: 3.136359854, thrid_2: 3.136368013, r: 3.136376172\n",
            "l: 3.136351695, thrid_1: 3.136357134, thrid_2: 3.136362574, r: 3.136368013\n",
            "l: 3.136357134, thrid_1: 3.136360761, thrid_2: 3.136364387, r: 3.136368013\n",
            "l: 3.136360761, thrid_1: 3.136363178, thrid_2: 3.136365596, r: 3.136368013\n",
            "l: 3.136360761, thrid_1: 3.136362372, thrid_2: 3.136363984, r: 3.136365596\n",
            "l: 3.136362372, thrid_1: 3.136363447, thrid_2: 3.136364521, r: 3.136365596\n",
            "l: 3.136362372, thrid_1: 3.136363089, thrid_2: 3.136363805, r: 3.136364521\n",
            "l: 3.136363089, thrid_1: 3.136363566, thrid_2: 3.136364044, r: 3.136364521\n",
            "l: 3.136363089, thrid_1: 3.136363407, thrid_2: 3.136363725, r: 3.136364044\n",
            "l: 3.136363407, thrid_1: 3.136363619, thrid_2: 3.136363831, r: 3.136364044\n",
            "l: 3.136363407, thrid_1: 3.136363548, thrid_2: 3.136363690, r: 3.136363831\n",
            "l: 3.136363407, thrid_1: 3.136363501, thrid_2: 3.136363596, r: 3.136363690\n",
            "l: 3.136363501, thrid_1: 3.136363564, thrid_2: 3.136363627, r: 3.136363690\n",
            "l: 3.136363564, thrid_1: 3.136363606, thrid_2: 3.136363648, r: 3.136363690\n",
            "l: 3.136363606, thrid_1: 3.136363634, thrid_2: 3.136363662, r: 3.136363690\n",
            "l: 3.136363606, thrid_1: 3.136363625, thrid_2: 3.136363643, r: 3.136363662\n",
            "l: 3.136363606, thrid_1: 3.136363618, thrid_2: 3.136363631, r: 3.136363643\n",
            "l: 3.136363618, thrid_1: 3.136363627, thrid_2: 3.136363635, r: 3.136363643\n",
            "l: 3.136363627, thrid_1: 3.136363632, thrid_2: 3.136363638, r: 3.136363643\n",
            "l: 3.136363632, thrid_1: 3.136363636, thrid_2: 3.136363640, r: 3.136363643\n",
            "l: 3.136363632, thrid_1: 3.136363635, thrid_2: 3.136363637, r: 3.136363640\n",
            "l: 3.136363635, thrid_1: 3.136363636, thrid_2: 3.136363638, r: 3.136363640\n",
            "l: 3.136363635, thrid_1: 3.136363636, thrid_2: 3.136363637, r: 3.136363638\n",
            "l: 3.136363635, thrid_1: 3.136363635, thrid_2: 3.136363636, r: 3.136363637\n",
            "l: 3.136363635, thrid_1: 3.136363636, thrid_2: 3.136363636, r: 3.136363637\n",
            "3.136363636 7.136363637\n"
          ]
        }
      ]
    },
    {
      "cell_type": "code",
      "source": [
        "import numpy as np\n",
        "import matplotlib.pyplot as plt\n",
        "l = -200000\n",
        "r = 200000\n",
        "x = np.arange(l, r + 1)\n",
        "vfunc = np.vectorize(check)\n",
        "y = vfunc(x)"
      ],
      "metadata": {
        "id": "VIq_Ba3s5U0T"
      },
      "execution_count": null,
      "outputs": []
    },
    {
      "cell_type": "code",
      "source": [
        "plt.plot(x, y)\n",
        "plt.show()"
      ],
      "metadata": {
        "colab": {
          "base_uri": "https://localhost:8080/",
          "height": 276
        },
        "id": "c58XYu4wG6Ga",
        "outputId": "db688814-1bf9-45aa-afe2-e0dc0f492e8a"
      },
      "execution_count": null,
      "outputs": [
        {
          "output_type": "display_data",
          "data": {
            "text/plain": [
              "<Figure size 432x288 with 1 Axes>"
            ],
            "image/png": "[encoded data removed]"
          },
          "metadata": {
            "needs_background": "light"
          }
        }
      ]
    },
    {
      "cell_type": "code",
      "source": [
        "l = -20\n",
        "r = 20\n",
        "x = np.arange(l, r + 1)\n",
        "vfunc = np.vectorize(check)\n",
        "y = vfunc(x)\n",
        "plt.plot(x, y)\n",
        "plt.show()"
      ],
      "metadata": {
        "colab": {
          "base_uri": "https://localhost:8080/",
          "height": 265
        },
        "id": "wAtc4MGLG_nR",
        "outputId": "9c6b64ee-6c97-475f-f2b8-9261b4965f6d"
      },
      "execution_count": null,
      "outputs": [
        {
          "output_type": "display_data",
          "data": {
            "text/plain": [
              "<Figure size 432x288 with 1 Axes>"
            ],
            "image/png": "[encoded data removed]"
          },
          "metadata": {
            "needs_background": "light"
          }
        }
      ]
    }
  ]
}